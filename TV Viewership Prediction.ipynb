{
 "cells": [
  {
   "cell_type": "markdown",
   "metadata": {},
   "source": [
    "### Imports "
   ]
  },
  {
   "cell_type": "code",
   "execution_count": 1,
   "metadata": {},
   "outputs": [],
   "source": [
    "import pandas as pd\n",
    "import numpy as np\n",
    "import matplotlib.pyplot as plt\n",
    "%matplotlib inline"
   ]
  },
  {
   "cell_type": "markdown",
   "metadata": {},
   "source": [
    "## Loading Dataset"
   ]
  },
  {
   "cell_type": "code",
   "execution_count": 2,
   "metadata": {},
   "outputs": [],
   "source": [
    "tv = pd.read_csv('/Users/agni/Desktop/liberty global/viewership_extract.csv',sep='\\t',error_bad_lines=False)"
   ]
  },
  {
   "cell_type": "code",
   "execution_count": 3,
   "metadata": {},
   "outputs": [
    {
     "name": "stdout",
     "output_type": "stream",
     "text": [
      "******************************************************\n",
      "****  Displaying the first few rows of the  data  ****\n",
      "******************************************************\n"
     ]
    },
    {
     "data": {
      "text/html": [
       "<div>\n",
       "<style>\n",
       "    .dataframe thead tr:only-child th {\n",
       "        text-align: right;\n",
       "    }\n",
       "\n",
       "    .dataframe thead th {\n",
       "        text-align: left;\n",
       "    }\n",
       "\n",
       "    .dataframe tbody tr th {\n",
       "        vertical-align: top;\n",
       "    }\n",
       "</style>\n",
       "<table border=\"1\" class=\"dataframe\">\n",
       "  <thead>\n",
       "    <tr style=\"text-align: right;\">\n",
       "      <th></th>\n",
       "      <th>household_id</th>\n",
       "      <th>session_start</th>\n",
       "      <th>session_end</th>\n",
       "      <th>channel_name</th>\n",
       "      <th>title</th>\n",
       "      <th>original_broadcast_start</th>\n",
       "      <th>original_broadcast_end</th>\n",
       "      <th>session_type</th>\n",
       "      <th>session_sub_type</th>\n",
       "      <th>genre</th>\n",
       "      <th>sub_genre</th>\n",
       "      <th>playback_speed</th>\n",
       "      <th>episode_title</th>\n",
       "      <th>series_title</th>\n",
       "      <th>gender</th>\n",
       "      <th>dob</th>\n",
       "    </tr>\n",
       "  </thead>\n",
       "  <tbody>\n",
       "    <tr>\n",
       "      <th>0</th>\n",
       "      <td>432215006</td>\n",
       "      <td>2016-04-09 08:36:52</td>\n",
       "      <td>2016-04-09 08:51:52</td>\n",
       "      <td>Nick Junior</td>\n",
       "      <td>Paw Patrol</td>\n",
       "      <td>2016-04-08 10:30:00</td>\n",
       "      <td>2016-04-08 10:45:00</td>\n",
       "      <td>TIMESHIFT</td>\n",
       "      <td>SERIES LINK BOOKING</td>\n",
       "      <td>Kids/Youth</td>\n",
       "      <td>For ages 6-14</td>\n",
       "      <td>1000.0</td>\n",
       "      <td>Pups and the Mischievous Kittens</td>\n",
       "      <td>NaN</td>\n",
       "      <td>Please Specify</td>\n",
       "      <td>1900-01-01</td>\n",
       "    </tr>\n",
       "    <tr>\n",
       "      <th>1</th>\n",
       "      <td>432215006</td>\n",
       "      <td>2016-04-27 10:03:48</td>\n",
       "      <td>2016-04-27 10:03:48</td>\n",
       "      <td>Nick Junior</td>\n",
       "      <td>Paw Patrol</td>\n",
       "      <td>2016-04-27 10:00:00</td>\n",
       "      <td>2016-04-27 10:15:00</td>\n",
       "      <td>TIMESHIFT</td>\n",
       "      <td>BUFFER</td>\n",
       "      <td>Kids/Youth</td>\n",
       "      <td>For ages 6-14</td>\n",
       "      <td>1000.0</td>\n",
       "      <td>Pups Save a Sniffle</td>\n",
       "      <td>NaN</td>\n",
       "      <td>Please Specify</td>\n",
       "      <td>1900-01-01</td>\n",
       "    </tr>\n",
       "    <tr>\n",
       "      <th>2</th>\n",
       "      <td>432215006</td>\n",
       "      <td>2016-04-27 17:03:48</td>\n",
       "      <td>2016-04-27 17:03:48</td>\n",
       "      <td>Nick Junior</td>\n",
       "      <td>Paw Patrol</td>\n",
       "      <td>2016-04-27 17:00:00</td>\n",
       "      <td>2016-04-27 17:15:00</td>\n",
       "      <td>TIMESHIFT</td>\n",
       "      <td>BUFFER</td>\n",
       "      <td>Kids/Youth</td>\n",
       "      <td>For ages 6-14</td>\n",
       "      <td>1000.0</td>\n",
       "      <td>Pups Save a Sniffle</td>\n",
       "      <td>NaN</td>\n",
       "      <td>Please Specify</td>\n",
       "      <td>1900-01-01</td>\n",
       "    </tr>\n",
       "    <tr>\n",
       "      <th>3</th>\n",
       "      <td>432215006</td>\n",
       "      <td>2016-04-18 09:02:46</td>\n",
       "      <td>2016-04-18 09:17:46</td>\n",
       "      <td>Nick Junior</td>\n",
       "      <td>Paw Patrol</td>\n",
       "      <td>2016-04-18 08:45:00</td>\n",
       "      <td>2016-04-18 09:00:00</td>\n",
       "      <td>TIMESHIFT</td>\n",
       "      <td>BUFFER</td>\n",
       "      <td>Kids/Youth</td>\n",
       "      <td>For ages 6-14</td>\n",
       "      <td>1000.0</td>\n",
       "      <td>NaN</td>\n",
       "      <td>NaN</td>\n",
       "      <td>Please Specify</td>\n",
       "      <td>1900-01-01</td>\n",
       "    </tr>\n",
       "    <tr>\n",
       "      <th>4</th>\n",
       "      <td>432215006</td>\n",
       "      <td>2016-04-22 17:28:45</td>\n",
       "      <td>2016-04-22 17:28:45</td>\n",
       "      <td>Nick Junior</td>\n",
       "      <td>Paw Patrol</td>\n",
       "      <td>2016-04-22 17:15:00</td>\n",
       "      <td>2016-04-22 17:30:00</td>\n",
       "      <td>TIMESHIFT</td>\n",
       "      <td>BUFFER</td>\n",
       "      <td>Kids/Youth</td>\n",
       "      <td>For ages 6-14</td>\n",
       "      <td>1000.0</td>\n",
       "      <td>NaN</td>\n",
       "      <td>NaN</td>\n",
       "      <td>Please Specify</td>\n",
       "      <td>1900-01-01</td>\n",
       "    </tr>\n",
       "  </tbody>\n",
       "</table>\n",
       "</div>"
      ],
      "text/plain": [
       "   household_id        session_start          session_end channel_name  \\\n",
       "0     432215006  2016-04-09 08:36:52  2016-04-09 08:51:52  Nick Junior   \n",
       "1     432215006  2016-04-27 10:03:48  2016-04-27 10:03:48  Nick Junior   \n",
       "2     432215006  2016-04-27 17:03:48  2016-04-27 17:03:48  Nick Junior   \n",
       "3     432215006  2016-04-18 09:02:46  2016-04-18 09:17:46  Nick Junior   \n",
       "4     432215006  2016-04-22 17:28:45  2016-04-22 17:28:45  Nick Junior   \n",
       "\n",
       "        title original_broadcast_start original_broadcast_end session_type  \\\n",
       "0  Paw Patrol      2016-04-08 10:30:00    2016-04-08 10:45:00    TIMESHIFT   \n",
       "1  Paw Patrol      2016-04-27 10:00:00    2016-04-27 10:15:00    TIMESHIFT   \n",
       "2  Paw Patrol      2016-04-27 17:00:00    2016-04-27 17:15:00    TIMESHIFT   \n",
       "3  Paw Patrol      2016-04-18 08:45:00    2016-04-18 09:00:00    TIMESHIFT   \n",
       "4  Paw Patrol      2016-04-22 17:15:00    2016-04-22 17:30:00    TIMESHIFT   \n",
       "\n",
       "      session_sub_type       genre      sub_genre  playback_speed  \\\n",
       "0  SERIES LINK BOOKING  Kids/Youth  For ages 6-14          1000.0   \n",
       "1               BUFFER  Kids/Youth  For ages 6-14          1000.0   \n",
       "2               BUFFER  Kids/Youth  For ages 6-14          1000.0   \n",
       "3               BUFFER  Kids/Youth  For ages 6-14          1000.0   \n",
       "4               BUFFER  Kids/Youth  For ages 6-14          1000.0   \n",
       "\n",
       "                      episode_title series_title          gender         dob  \n",
       "0  Pups and the Mischievous Kittens          NaN  Please Specify  1900-01-01  \n",
       "1               Pups Save a Sniffle          NaN  Please Specify  1900-01-01  \n",
       "2               Pups Save a Sniffle          NaN  Please Specify  1900-01-01  \n",
       "3                               NaN          NaN  Please Specify  1900-01-01  \n",
       "4                               NaN          NaN  Please Specify  1900-01-01  "
      ]
     },
     "execution_count": 3,
     "metadata": {},
     "output_type": "execute_result"
    }
   ],
   "source": [
    "print('******************************************************')\n",
    "print('****  Displaying the first few rows of the  data  ****')\n",
    "print('******************************************************')\n",
    "tv.head()"
   ]
  },
  {
   "cell_type": "code",
   "execution_count": 4,
   "metadata": {},
   "outputs": [
    {
     "name": "stdout",
     "output_type": "stream",
     "text": [
      "***********************************************\n",
      "****  Displaying the Columns of the  data  ****\n",
      "***********************************************\n"
     ]
    },
    {
     "data": {
      "text/plain": [
       "Index(['household_id', 'session_start', 'session_end', 'channel_name', 'title',\n",
       "       'original_broadcast_start', 'original_broadcast_end', 'session_type',\n",
       "       'session_sub_type', 'genre', 'sub_genre', 'playback_speed',\n",
       "       'episode_title', 'series_title', 'gender', 'dob'],\n",
       "      dtype='object')"
      ]
     },
     "execution_count": 4,
     "metadata": {},
     "output_type": "execute_result"
    }
   ],
   "source": [
    "print('***********************************************')\n",
    "print('****  Displaying the Columns of the  data  ****')\n",
    "print('***********************************************')\n",
    "tv.columns"
   ]
  },
  {
   "cell_type": "markdown",
   "metadata": {},
   "source": [
    "So we can see from the above that the dataset has 16 columns"
   ]
  },
  {
   "cell_type": "markdown",
   "metadata": {},
   "source": [
    "### The columns and the above dataset gives us the following information: \n",
    "\n",
    "\n",
    "    - What is the household id of the user?\n",
    "    - When did they start a session ?\n",
    "    - What tv channel did they watch ?\n",
    "    - What did they view in the channel ?\n",
    "    - When did they have their signals broadcasted ?\n",
    "    - What type of session was the broadcast ? \n",
    "    - What type of session sub type was it ?\n",
    "    - What kind of genre did it fall under ?\n",
    "    - What kind of sub genre did it fall under ?\n",
    "    - What was the title of the episode ?\n",
    "    - What was the title of the series ?\n",
    "    - What is the gender of the viewer ?\n",
    "    - What is the dob of the client ?"
   ]
  },
  {
   "cell_type": "markdown",
   "metadata": {},
   "source": [
    "### Sanity Check\n",
    "\n",
    "- To check number of rows that are empty\n",
    "- To find erroneous data \n",
    "- To clean the dataset"
   ]
  },
  {
   "cell_type": "code",
   "execution_count": 5,
   "metadata": {},
   "outputs": [
    {
     "name": "stdout",
     "output_type": "stream",
     "text": [
      "*******************************************************************************\n",
      "****************************  Answers to the above Questions  ************\n",
      "*******************************************************************************\n",
      "\n",
      "\n",
      "How many household ids are there ? 3863142\n",
      "How many household ids are unique ? 2813\n",
      "\n",
      "\n",
      "How many channels are there ? 238\n",
      "\n",
      "\n",
      "Number of unique titles in total ? 12627\n",
      "\n",
      "\n",
      "Types of sessions available? {'LIVE', 'TIMESHIFT', 'REPLAY', 'VOD'}\n",
      "\n",
      "\n",
      "Types of sub sessions available? {'SVOD', 'REPLAY', 'BUFFER', 'MYPRIME', 'SINGLE RECORDING', 'REPEAT TIME BASED BOOKING', 'SINGLE TIME BASED BOOKING', 'SERIES LINK BOOKING', 'LIVE', 'TVOD'}\n",
      "\n",
      "\n",
      "How many genres are there? 14\n",
      "\n",
      "\n",
      "How many sub-genres are there? 72\n",
      "\n",
      "\n",
      "How many types of playback speed are there? 793\n",
      "\n",
      "\n",
      "How many episode titles are there? 22628\n",
      "\n",
      "\n",
      "How many series title are there? 5056\n",
      "\n",
      "\n",
      "How many gender types are there? {'Male', 'Please Specify', 'Female', 'To be specified'}\n",
      "\n",
      "\n",
      "How many users have unique dob? 987\n"
     ]
    }
   ],
   "source": [
    "print('*******************************************************************************')\n",
    "print('****************************  Answers to the above Questions  ************')\n",
    "print('*******************************************************************************')\n",
    "print(\"\\n\")\n",
    "print(\"How many household ids are there ? {household_id}\".format(household_id = len(tv.household_id)))\n",
    "print(\"How many household ids are unique ? {household_id}\".format(household_id = len(set(tv.household_id))))\n",
    "print(\"\\n\")\n",
    "print(\"How many channels are there ? {channel}\".format(channel = len(set(tv.channel_name))))\n",
    "print(\"\\n\")\n",
    "print(\"Number of unique titles in total ? {title}\".format(title = len(set(tv.title))))\n",
    "print(\"\\n\")\n",
    "print(\"Types of sessions available? {session_type}\".format(session_type = set(tv.session_type)))\n",
    "print(\"\\n\")\n",
    "print(\"Types of sub sessions available? {sub_session_type}\".format(sub_session_type = set(tv.session_sub_type)))\n",
    "print(\"\\n\")\n",
    "print(\"How many genres are there? {genre}\".format(genre = len(set(tv.genre))))\n",
    "print(\"\\n\")\n",
    "print(\"How many sub-genres are there? {sub_genre}\".format(sub_genre = len(set(tv.sub_genre))))\n",
    "print(\"\\n\")\n",
    "print(\"How many types of playback speed are there? {speed}\".format(speed = len(set(tv.playback_speed))))\n",
    "print(\"\\n\")\n",
    "print(\"How many episode titles are there? {episodes}\".format(episodes = len(set(tv.episode_title))))\n",
    "print(\"\\n\")\n",
    "print(\"How many series title are there? {series_title}\".format(series_title = len(set(tv.series_title))))\n",
    "print(\"\\n\")\n",
    "print(\"How many gender types are there? {gender}\".format(gender = (set(tv.gender))))\n",
    "print(\"\\n\")\n",
    "print(\"How many users have unique dob? {dob}\".format(dob = len(set(tv.dob))))"
   ]
  },
  {
   "cell_type": "markdown",
   "metadata": {},
   "source": [
    "### Finding columns without NaN values"
   ]
  },
  {
   "cell_type": "code",
   "execution_count": 6,
   "metadata": {},
   "outputs": [
    {
     "data": {
      "text/html": [
       "<div>\n",
       "<style>\n",
       "    .dataframe thead tr:only-child th {\n",
       "        text-align: right;\n",
       "    }\n",
       "\n",
       "    .dataframe thead th {\n",
       "        text-align: left;\n",
       "    }\n",
       "\n",
       "    .dataframe tbody tr th {\n",
       "        vertical-align: top;\n",
       "    }\n",
       "</style>\n",
       "<table border=\"1\" class=\"dataframe\">\n",
       "  <thead>\n",
       "    <tr style=\"text-align: right;\">\n",
       "      <th></th>\n",
       "      <th>index</th>\n",
       "      <th>0</th>\n",
       "    </tr>\n",
       "  </thead>\n",
       "  <tbody>\n",
       "    <tr>\n",
       "      <th>0</th>\n",
       "      <td>household_id</td>\n",
       "      <td>0</td>\n",
       "    </tr>\n",
       "    <tr>\n",
       "      <th>1</th>\n",
       "      <td>session_start</td>\n",
       "      <td>0</td>\n",
       "    </tr>\n",
       "    <tr>\n",
       "      <th>2</th>\n",
       "      <td>session_end</td>\n",
       "      <td>0</td>\n",
       "    </tr>\n",
       "    <tr>\n",
       "      <th>3</th>\n",
       "      <td>channel_name</td>\n",
       "      <td>0</td>\n",
       "    </tr>\n",
       "    <tr>\n",
       "      <th>4</th>\n",
       "      <td>title</td>\n",
       "      <td>5</td>\n",
       "    </tr>\n",
       "    <tr>\n",
       "      <th>5</th>\n",
       "      <td>original_broadcast_start</td>\n",
       "      <td>12181</td>\n",
       "    </tr>\n",
       "    <tr>\n",
       "      <th>6</th>\n",
       "      <td>original_broadcast_end</td>\n",
       "      <td>12181</td>\n",
       "    </tr>\n",
       "    <tr>\n",
       "      <th>7</th>\n",
       "      <td>session_type</td>\n",
       "      <td>0</td>\n",
       "    </tr>\n",
       "    <tr>\n",
       "      <th>8</th>\n",
       "      <td>session_sub_type</td>\n",
       "      <td>0</td>\n",
       "    </tr>\n",
       "    <tr>\n",
       "      <th>9</th>\n",
       "      <td>genre</td>\n",
       "      <td>0</td>\n",
       "    </tr>\n",
       "    <tr>\n",
       "      <th>10</th>\n",
       "      <td>sub_genre</td>\n",
       "      <td>0</td>\n",
       "    </tr>\n",
       "    <tr>\n",
       "      <th>11</th>\n",
       "      <td>playback_speed</td>\n",
       "      <td>782</td>\n",
       "    </tr>\n",
       "    <tr>\n",
       "      <th>12</th>\n",
       "      <td>episode_title</td>\n",
       "      <td>2805111</td>\n",
       "    </tr>\n",
       "    <tr>\n",
       "      <th>13</th>\n",
       "      <td>series_title</td>\n",
       "      <td>1771372</td>\n",
       "    </tr>\n",
       "    <tr>\n",
       "      <th>14</th>\n",
       "      <td>gender</td>\n",
       "      <td>0</td>\n",
       "    </tr>\n",
       "    <tr>\n",
       "      <th>15</th>\n",
       "      <td>dob</td>\n",
       "      <td>0</td>\n",
       "    </tr>\n",
       "  </tbody>\n",
       "</table>\n",
       "</div>"
      ],
      "text/plain": [
       "                       index        0\n",
       "0               household_id        0\n",
       "1              session_start        0\n",
       "2                session_end        0\n",
       "3               channel_name        0\n",
       "4                      title        5\n",
       "5   original_broadcast_start    12181\n",
       "6     original_broadcast_end    12181\n",
       "7               session_type        0\n",
       "8           session_sub_type        0\n",
       "9                      genre        0\n",
       "10                 sub_genre        0\n",
       "11            playback_speed      782\n",
       "12             episode_title  2805111\n",
       "13              series_title  1771372\n",
       "14                    gender        0\n",
       "15                       dob        0"
      ]
     },
     "execution_count": 6,
     "metadata": {},
     "output_type": "execute_result"
    }
   ],
   "source": [
    "tv.isnull().sum().reset_index()"
   ]
  },
  {
   "cell_type": "code",
   "execution_count": 7,
   "metadata": {},
   "outputs": [
    {
     "name": "stdout",
     "output_type": "stream",
     "text": [
      "\n",
      "Total numner of people in the dataset 3863142\n"
     ]
    },
    {
     "data": {
      "text/html": [
       "<div>\n",
       "<style>\n",
       "    .dataframe thead tr:only-child th {\n",
       "        text-align: right;\n",
       "    }\n",
       "\n",
       "    .dataframe thead th {\n",
       "        text-align: left;\n",
       "    }\n",
       "\n",
       "    .dataframe tbody tr th {\n",
       "        vertical-align: top;\n",
       "    }\n",
       "</style>\n",
       "<table border=\"1\" class=\"dataframe\">\n",
       "  <thead>\n",
       "    <tr style=\"text-align: right;\">\n",
       "      <th></th>\n",
       "      <th>index</th>\n",
       "      <th>dob</th>\n",
       "    </tr>\n",
       "  </thead>\n",
       "  <tbody>\n",
       "    <tr>\n",
       "      <th>0</th>\n",
       "      <td>1900-01-01</td>\n",
       "      <td>2568362</td>\n",
       "    </tr>\n",
       "    <tr>\n",
       "      <th>1</th>\n",
       "      <td>1970-01-02</td>\n",
       "      <td>10216</td>\n",
       "    </tr>\n",
       "    <tr>\n",
       "      <th>2</th>\n",
       "      <td>1981-02-24</td>\n",
       "      <td>8458</td>\n",
       "    </tr>\n",
       "    <tr>\n",
       "      <th>3</th>\n",
       "      <td>1960-01-06</td>\n",
       "      <td>7020</td>\n",
       "    </tr>\n",
       "    <tr>\n",
       "      <th>4</th>\n",
       "      <td>1942-11-21</td>\n",
       "      <td>6528</td>\n",
       "    </tr>\n",
       "    <tr>\n",
       "      <th>5</th>\n",
       "      <td>1955-08-17</td>\n",
       "      <td>6381</td>\n",
       "    </tr>\n",
       "    <tr>\n",
       "      <th>6</th>\n",
       "      <td>1964-10-25</td>\n",
       "      <td>6349</td>\n",
       "    </tr>\n",
       "    <tr>\n",
       "      <th>7</th>\n",
       "      <td>1982-04-27</td>\n",
       "      <td>5974</td>\n",
       "    </tr>\n",
       "    <tr>\n",
       "      <th>8</th>\n",
       "      <td>1976-05-08</td>\n",
       "      <td>5634</td>\n",
       "    </tr>\n",
       "    <tr>\n",
       "      <th>9</th>\n",
       "      <td>1970-11-07</td>\n",
       "      <td>5496</td>\n",
       "    </tr>\n",
       "  </tbody>\n",
       "</table>\n",
       "</div>"
      ],
      "text/plain": [
       "        index      dob\n",
       "0  1900-01-01  2568362\n",
       "1  1970-01-02    10216\n",
       "2  1981-02-24     8458\n",
       "3  1960-01-06     7020\n",
       "4  1942-11-21     6528\n",
       "5  1955-08-17     6381\n",
       "6  1964-10-25     6349\n",
       "7  1982-04-27     5974\n",
       "8  1976-05-08     5634\n",
       "9  1970-11-07     5496"
      ]
     },
     "execution_count": 7,
     "metadata": {},
     "output_type": "execute_result"
    }
   ],
   "source": [
    "## Grouping number of people by dob\n",
    "print(\"\\nTotal numner of people in the dataset\", len(tv.dob))\n",
    "tv.dob.value_counts().reset_index()[:10]"
   ]
  },
  {
   "cell_type": "code",
   "execution_count": 8,
   "metadata": {},
   "outputs": [
    {
     "name": "stdout",
     "output_type": "stream",
     "text": [
      "Number of rows with proper data for DOB 1294780\n",
      "Percentage of rows with proper data for DOB 33.516241442846265\n",
      "Percentage of rows with corrupt data for DOB 66.48375855715373\n"
     ]
    }
   ],
   "source": [
    "print(\"Number of rows with proper data for DOB\",3863142 - 2568362)\n",
    "print(\"Percentage of rows with proper data for DOB\",((3863142 - 2568362)/3863142)*100 )\n",
    "print(\"Percentage of rows with corrupt data for DOB\",((2568362)/3863142)*100 )"
   ]
  },
  {
   "cell_type": "markdown",
   "metadata": {},
   "source": [
    "### Creating a dataframe for the analysis"
   ]
  },
  {
   "cell_type": "code",
   "execution_count": 9,
   "metadata": {},
   "outputs": [],
   "source": [
    "## Copying the  original dataframe for the cleaning and analysis purpose\n",
    "df = tv"
   ]
  },
  {
   "cell_type": "code",
   "execution_count": 10,
   "metadata": {},
   "outputs": [
    {
     "name": "stdout",
     "output_type": "stream",
     "text": [
      "\n",
      "Dropping the rows with DOB 1990-01-01 because there is no way to get a median/mean for this age for imputation\n",
      "\n"
     ]
    }
   ],
   "source": [
    "print(\"\\nDropping the rows with DOB 1990-01-01 because there is no way to get a median/mean for this age for imputation\\n\")\n",
    "df = df[df.dob != '1900-01-01']"
   ]
  },
  {
   "cell_type": "code",
   "execution_count": 11,
   "metadata": {},
   "outputs": [
    {
     "name": "stdout",
     "output_type": "stream",
     "text": [
      "\n",
      " Displaying Top 5 Dob by frequency \n",
      "\n"
     ]
    },
    {
     "data": {
      "text/html": [
       "<div>\n",
       "<style>\n",
       "    .dataframe thead tr:only-child th {\n",
       "        text-align: right;\n",
       "    }\n",
       "\n",
       "    .dataframe thead th {\n",
       "        text-align: left;\n",
       "    }\n",
       "\n",
       "    .dataframe tbody tr th {\n",
       "        vertical-align: top;\n",
       "    }\n",
       "</style>\n",
       "<table border=\"1\" class=\"dataframe\">\n",
       "  <thead>\n",
       "    <tr style=\"text-align: right;\">\n",
       "      <th></th>\n",
       "      <th>index</th>\n",
       "      <th>dob</th>\n",
       "    </tr>\n",
       "  </thead>\n",
       "  <tbody>\n",
       "    <tr>\n",
       "      <th>0</th>\n",
       "      <td>1970-01-02</td>\n",
       "      <td>10216</td>\n",
       "    </tr>\n",
       "    <tr>\n",
       "      <th>1</th>\n",
       "      <td>1981-02-24</td>\n",
       "      <td>8458</td>\n",
       "    </tr>\n",
       "    <tr>\n",
       "      <th>2</th>\n",
       "      <td>1960-01-06</td>\n",
       "      <td>7020</td>\n",
       "    </tr>\n",
       "    <tr>\n",
       "      <th>3</th>\n",
       "      <td>1942-11-21</td>\n",
       "      <td>6528</td>\n",
       "    </tr>\n",
       "    <tr>\n",
       "      <th>4</th>\n",
       "      <td>1955-08-17</td>\n",
       "      <td>6381</td>\n",
       "    </tr>\n",
       "  </tbody>\n",
       "</table>\n",
       "</div>"
      ],
      "text/plain": [
       "        index    dob\n",
       "0  1970-01-02  10216\n",
       "1  1981-02-24   8458\n",
       "2  1960-01-06   7020\n",
       "3  1942-11-21   6528\n",
       "4  1955-08-17   6381"
      ]
     },
     "execution_count": 11,
     "metadata": {},
     "output_type": "execute_result"
    }
   ],
   "source": [
    "print(\"\\n Displaying Top 5 Dob by frequency \\n\")\n",
    "df.dob.value_counts().reset_index()[:5]"
   ]
  },
  {
   "cell_type": "code",
   "execution_count": 12,
   "metadata": {},
   "outputs": [
    {
     "name": "stdout",
     "output_type": "stream",
     "text": [
      "\n",
      " Dropping all rows with NaN values to remove unbiases \n",
      "\n",
      "<class 'pandas.core.frame.DataFrame'>\n",
      "Int64Index: 308702 entries, 3996 to 3862761\n",
      "Data columns (total 16 columns):\n",
      "household_id                308702 non-null int64\n",
      "session_start               308702 non-null object\n",
      "session_end                 308702 non-null object\n",
      "channel_name                308702 non-null object\n",
      "title                       308702 non-null object\n",
      "original_broadcast_start    308702 non-null object\n",
      "original_broadcast_end      308702 non-null object\n",
      "session_type                308702 non-null object\n",
      "session_sub_type            308702 non-null object\n",
      "genre                       308702 non-null object\n",
      "sub_genre                   308702 non-null object\n",
      "playback_speed              308702 non-null float64\n",
      "episode_title               308702 non-null object\n",
      "series_title                308702 non-null object\n",
      "gender                      308702 non-null object\n",
      "dob                         308702 non-null object\n",
      "dtypes: float64(1), int64(1), object(14)\n",
      "memory usage: 40.0+ MB\n"
     ]
    }
   ],
   "source": [
    "print(\"\\n Dropping all rows with NaN values to remove unbiases \\n\")\n",
    "df = df.dropna()\n",
    "df.info()"
   ]
  },
  {
   "cell_type": "markdown",
   "metadata": {},
   "source": [
    "### Function to calculate age of user"
   ]
  },
  {
   "cell_type": "code",
   "execution_count": 13,
   "metadata": {},
   "outputs": [],
   "source": [
    "def age(value):\n",
    "    from datetime import datetime\n",
    "    \n",
    "    s2 = '2018-04-03'\n",
    "    d1=datetime.strptime(value,'%Y-%m-%d')\n",
    "    d2=datetime.strptime(s2,'%Y-%m-%d')\n",
    "    ff =(d2-d1)\n",
    "    return int(ff.days/365.25)"
   ]
  },
  {
   "cell_type": "code",
   "execution_count": 14,
   "metadata": {},
   "outputs": [],
   "source": [
    "age_group = []\n",
    "user_age = []\n",
    "for i in df.dob:    \n",
    "    if(age(i) <25):\n",
    "        age_group.append(1)\n",
    "        user_age.append(age(i))\n",
    "    if(age(i) >=25 and age(i)<35):\n",
    "        age_group.append(2)\n",
    "        user_age.append(age(i))\n",
    "    if(age(i) >=35 and age(i)<45):\n",
    "        age_group.append(3)\n",
    "        user_age.append(age(i))\n",
    "    if(age(i) >=45 and age(i)<55):\n",
    "        age_group.append(4)\n",
    "        user_age.append(age(i))\n",
    "    if(age(i) >=55 and age(i)<65):\n",
    "        age_group.append(5)\n",
    "        user_age.append(age(i))\n",
    "    if(age(i) >=65):\n",
    "        age_group.append(6)\n",
    "        user_age.append(age(i))\n",
    "        \n",
    "        \n",
    "df['age_group'] = age_group\n",
    "df['user_age'] = user_age"
   ]
  },
  {
   "cell_type": "code",
   "execution_count": 15,
   "metadata": {},
   "outputs": [
    {
     "name": "stdout",
     "output_type": "stream",
     "text": [
      "*****************************************************\n",
      "****  Displaying information of the  first 5 rows post modifications  ****\n",
      "*****************************************************\n"
     ]
    },
    {
     "data": {
      "text/html": [
       "<div>\n",
       "<style>\n",
       "    .dataframe thead tr:only-child th {\n",
       "        text-align: right;\n",
       "    }\n",
       "\n",
       "    .dataframe thead th {\n",
       "        text-align: left;\n",
       "    }\n",
       "\n",
       "    .dataframe tbody tr th {\n",
       "        vertical-align: top;\n",
       "    }\n",
       "</style>\n",
       "<table border=\"1\" class=\"dataframe\">\n",
       "  <thead>\n",
       "    <tr style=\"text-align: right;\">\n",
       "      <th></th>\n",
       "      <th>household_id</th>\n",
       "      <th>session_start</th>\n",
       "      <th>session_end</th>\n",
       "      <th>channel_name</th>\n",
       "      <th>title</th>\n",
       "      <th>original_broadcast_start</th>\n",
       "      <th>original_broadcast_end</th>\n",
       "      <th>session_type</th>\n",
       "      <th>session_sub_type</th>\n",
       "      <th>genre</th>\n",
       "      <th>sub_genre</th>\n",
       "      <th>playback_speed</th>\n",
       "      <th>episode_title</th>\n",
       "      <th>series_title</th>\n",
       "      <th>gender</th>\n",
       "      <th>dob</th>\n",
       "      <th>age_group</th>\n",
       "      <th>user_age</th>\n",
       "    </tr>\n",
       "  </thead>\n",
       "  <tbody>\n",
       "    <tr>\n",
       "      <th>3996</th>\n",
       "      <td>432216770</td>\n",
       "      <td>2016-04-04 22:37:32</td>\n",
       "      <td>2016-04-04 22:44:16</td>\n",
       "      <td>E!</td>\n",
       "      <td>LA Clippers Dance Squad</td>\n",
       "      <td>2016-04-04 22:37:32</td>\n",
       "      <td>2016-04-04 23:00:00</td>\n",
       "      <td>LIVE</td>\n",
       "      <td>LIVE</td>\n",
       "      <td>Show/Game Show</td>\n",
       "      <td>Undefined</td>\n",
       "      <td>1000.0</td>\n",
       "      <td>Adventures of the Floss Nest</td>\n",
       "      <td>LA Clippers Dance Squad</td>\n",
       "      <td>Female</td>\n",
       "      <td>1984-08-08</td>\n",
       "      <td>2</td>\n",
       "      <td>33</td>\n",
       "    </tr>\n",
       "    <tr>\n",
       "      <th>4005</th>\n",
       "      <td>432216770</td>\n",
       "      <td>2016-04-10 21:01:59</td>\n",
       "      <td>2016-04-10 21:07:23</td>\n",
       "      <td>Sky One</td>\n",
       "      <td>Hawaii Five-0</td>\n",
       "      <td>2016-04-10 21:01:59</td>\n",
       "      <td>2016-04-10 21:07:23</td>\n",
       "      <td>LIVE</td>\n",
       "      <td>LIVE</td>\n",
       "      <td>Drama</td>\n",
       "      <td>Crime</td>\n",
       "      <td>1000.0</td>\n",
       "      <td>Ka Pohaku Kihi Pa'a (The Solid Cornerstone)</td>\n",
       "      <td>Hawaii Five-0 - Series 6</td>\n",
       "      <td>Female</td>\n",
       "      <td>1984-08-08</td>\n",
       "      <td>2</td>\n",
       "      <td>33</td>\n",
       "    </tr>\n",
       "    <tr>\n",
       "      <th>4006</th>\n",
       "      <td>432216770</td>\n",
       "      <td>2016-04-18 20:07:14</td>\n",
       "      <td>2016-04-18 20:10:09</td>\n",
       "      <td>E!</td>\n",
       "      <td>I Am Cait</td>\n",
       "      <td>2016-04-18 20:07:14</td>\n",
       "      <td>2016-04-18 20:10:09</td>\n",
       "      <td>LIVE</td>\n",
       "      <td>LIVE</td>\n",
       "      <td>Drama</td>\n",
       "      <td>Factual</td>\n",
       "      <td>1000.0</td>\n",
       "      <td>Guess Who's Coming to Dinner?</td>\n",
       "      <td>I Am Cait - Series 2</td>\n",
       "      <td>Female</td>\n",
       "      <td>1984-08-08</td>\n",
       "      <td>2</td>\n",
       "      <td>33</td>\n",
       "    </tr>\n",
       "    <tr>\n",
       "      <th>4007</th>\n",
       "      <td>432216770</td>\n",
       "      <td>2016-04-18 20:01:51</td>\n",
       "      <td>2016-04-18 20:02:32</td>\n",
       "      <td>E!</td>\n",
       "      <td>I Am Cait</td>\n",
       "      <td>2016-04-18 20:01:51</td>\n",
       "      <td>2016-04-18 20:02:32</td>\n",
       "      <td>LIVE</td>\n",
       "      <td>LIVE</td>\n",
       "      <td>Drama</td>\n",
       "      <td>Factual</td>\n",
       "      <td>1000.0</td>\n",
       "      <td>Guess Who's Coming to Dinner?</td>\n",
       "      <td>I Am Cait - Series 2</td>\n",
       "      <td>Female</td>\n",
       "      <td>1984-08-08</td>\n",
       "      <td>2</td>\n",
       "      <td>33</td>\n",
       "    </tr>\n",
       "    <tr>\n",
       "      <th>4046</th>\n",
       "      <td>432216770</td>\n",
       "      <td>2016-04-18 22:00:00</td>\n",
       "      <td>2016-04-18 22:02:40</td>\n",
       "      <td>E4</td>\n",
       "      <td>Empire</td>\n",
       "      <td>2016-04-18 22:00:00</td>\n",
       "      <td>2016-04-18 22:02:40</td>\n",
       "      <td>LIVE</td>\n",
       "      <td>LIVE</td>\n",
       "      <td>Drama</td>\n",
       "      <td>Undefined</td>\n",
       "      <td>1000.0</td>\n",
       "      <td>A Rose By Any Other Name</td>\n",
       "      <td>Empire - Series 2</td>\n",
       "      <td>Female</td>\n",
       "      <td>1984-08-08</td>\n",
       "      <td>2</td>\n",
       "      <td>33</td>\n",
       "    </tr>\n",
       "  </tbody>\n",
       "</table>\n",
       "</div>"
      ],
      "text/plain": [
       "      household_id        session_start          session_end channel_name  \\\n",
       "3996     432216770  2016-04-04 22:37:32  2016-04-04 22:44:16           E!   \n",
       "4005     432216770  2016-04-10 21:01:59  2016-04-10 21:07:23      Sky One   \n",
       "4006     432216770  2016-04-18 20:07:14  2016-04-18 20:10:09           E!   \n",
       "4007     432216770  2016-04-18 20:01:51  2016-04-18 20:02:32           E!   \n",
       "4046     432216770  2016-04-18 22:00:00  2016-04-18 22:02:40           E4   \n",
       "\n",
       "                        title original_broadcast_start original_broadcast_end  \\\n",
       "3996  LA Clippers Dance Squad      2016-04-04 22:37:32    2016-04-04 23:00:00   \n",
       "4005            Hawaii Five-0      2016-04-10 21:01:59    2016-04-10 21:07:23   \n",
       "4006                I Am Cait      2016-04-18 20:07:14    2016-04-18 20:10:09   \n",
       "4007                I Am Cait      2016-04-18 20:01:51    2016-04-18 20:02:32   \n",
       "4046                   Empire      2016-04-18 22:00:00    2016-04-18 22:02:40   \n",
       "\n",
       "     session_type session_sub_type           genre  sub_genre  playback_speed  \\\n",
       "3996         LIVE             LIVE  Show/Game Show  Undefined          1000.0   \n",
       "4005         LIVE             LIVE           Drama      Crime          1000.0   \n",
       "4006         LIVE             LIVE           Drama    Factual          1000.0   \n",
       "4007         LIVE             LIVE           Drama    Factual          1000.0   \n",
       "4046         LIVE             LIVE           Drama  Undefined          1000.0   \n",
       "\n",
       "                                    episode_title              series_title  \\\n",
       "3996                 Adventures of the Floss Nest   LA Clippers Dance Squad   \n",
       "4005  Ka Pohaku Kihi Pa'a (The Solid Cornerstone)  Hawaii Five-0 - Series 6   \n",
       "4006                Guess Who's Coming to Dinner?      I Am Cait - Series 2   \n",
       "4007                Guess Who's Coming to Dinner?      I Am Cait - Series 2   \n",
       "4046                     A Rose By Any Other Name         Empire - Series 2   \n",
       "\n",
       "      gender         dob  age_group  user_age  \n",
       "3996  Female  1984-08-08          2        33  \n",
       "4005  Female  1984-08-08          2        33  \n",
       "4006  Female  1984-08-08          2        33  \n",
       "4007  Female  1984-08-08          2        33  \n",
       "4046  Female  1984-08-08          2        33  "
      ]
     },
     "execution_count": 15,
     "metadata": {},
     "output_type": "execute_result"
    }
   ],
   "source": [
    "print('*****************************************************')\n",
    "print('****  Displaying information of the  first 5 rows post modifications  ****')\n",
    "print('*****************************************************')\n",
    "df.head(5)"
   ]
  },
  {
   "cell_type": "code",
   "execution_count": 16,
   "metadata": {},
   "outputs": [
    {
     "data": {
      "image/png": "[encoded data removed]",
      "text/plain": [
       "<matplotlib.figure.Figure at 0x102f1b390>"
      ]
     },
     "metadata": {},
     "output_type": "display_data"
    }
   ],
   "source": [
    "plt.figure(figsize=(20,9))\n",
    "plt.subplot(1, 2, 1)\n",
    "plt.title(\"Age group Frequency \")\n",
    "\n",
    "df.age_group.value_counts().plot.bar()\n",
    "\n",
    "plt.subplot(1, 2, 2)\n",
    "plt.title(\" Top 35 User Age frequency distribution\")\n",
    "df.user_age.value_counts()[:35].plot.bar()\n",
    "\n",
    "plt.tight_layout()"
   ]
  },
  {
   "cell_type": "code",
   "execution_count": 17,
   "metadata": {},
   "outputs": [
    {
     "data": {
      "text/plain": [
       "<matplotlib.collections.PathCollection at 0x10c7507b8>"
      ]
     },
     "execution_count": 17,
     "metadata": {},
     "output_type": "execute_result"
    },
    {
     "data": {
      "image/png": "[encoded data removed]",
      "text/plain": [
       "<matplotlib.figure.Figure at 0x15389bdd8>"
      ]
     },
     "metadata": {},
     "output_type": "display_data"
    }
   ],
   "source": [
    "plt.title(\"User Ages vs Age group Distribuition\")\n",
    "plt.scatter(df.age_group, df.user_age)"
   ]
  },
  {
   "cell_type": "code",
   "execution_count": 18,
   "metadata": {},
   "outputs": [],
   "source": [
    "## Selecting specific columns for building the models. (Dropping the time rows)\n",
    "\n",
    "df = df[['household_id','channel_name','title','session_type','session_sub_type','genre','sub_genre','episode_title','series_title','gender','dob','age_group','user_age']]"
   ]
  },
  {
   "cell_type": "markdown",
   "metadata": {},
   "source": [
    "### Displaying Top 25 Channels and Titles watched by the users"
   ]
  },
  {
   "cell_type": "code",
   "execution_count": 19,
   "metadata": {},
   "outputs": [
    {
     "data": {
      "text/plain": [
       "<matplotlib.text.Text at 0x10da1f7f0>"
      ]
     },
     "execution_count": 19,
     "metadata": {},
     "output_type": "execute_result"
    },
    {
     "data": {
      "image/png": "[encoded data removed]",
      "text/plain": [
       "<matplotlib.figure.Figure at 0x10ad88b38>"
      ]
     },
     "metadata": {},
     "output_type": "display_data"
    }
   ],
   "source": [
    "plt.figure(figsize=(20,9))\n",
    "plt.subplot(1, 2, 1)\n",
    "df.channel_name.value_counts()[:25].plot.bar()\n",
    "plt.title(\"Top 25 Channels Watched by Users\")\n",
    "\n",
    "plt.subplot(1, 2, 2)\n",
    "df.title.value_counts()[:25].plot.bar()\n",
    "plt.title(\"Top 25 Title Watched by Users\")"
   ]
  },
  {
   "cell_type": "markdown",
   "metadata": {},
   "source": [
    "### Grouping by household id by gender and title and showing which title has been played the most"
   ]
  },
  {
   "cell_type": "code",
   "execution_count": 20,
   "metadata": {},
   "outputs": [
    {
     "data": {
      "text/html": [
       "<div>\n",
       "<style>\n",
       "    .dataframe thead tr:only-child th {\n",
       "        text-align: right;\n",
       "    }\n",
       "\n",
       "    .dataframe thead th {\n",
       "        text-align: left;\n",
       "    }\n",
       "\n",
       "    .dataframe tbody tr th {\n",
       "        vertical-align: top;\n",
       "    }\n",
       "</style>\n",
       "<table border=\"1\" class=\"dataframe\">\n",
       "  <thead>\n",
       "    <tr style=\"text-align: right;\">\n",
       "      <th></th>\n",
       "      <th>household_id</th>\n",
       "      <th>gender</th>\n",
       "      <th>title</th>\n",
       "      <th>title_count</th>\n",
       "    </tr>\n",
       "  </thead>\n",
       "  <tbody>\n",
       "    <tr>\n",
       "      <th>0</th>\n",
       "      <td>432214538</td>\n",
       "      <td>Female</td>\n",
       "      <td>7 Little Johnstons</td>\n",
       "      <td>1</td>\n",
       "    </tr>\n",
       "    <tr>\n",
       "      <th>1</th>\n",
       "      <td>432214538</td>\n",
       "      <td>Female</td>\n",
       "      <td>A Place in the Sun: Home or Away</td>\n",
       "      <td>2</td>\n",
       "    </tr>\n",
       "    <tr>\n",
       "      <th>2</th>\n",
       "      <td>432214538</td>\n",
       "      <td>Female</td>\n",
       "      <td>Air Crash Investigation</td>\n",
       "      <td>1</td>\n",
       "    </tr>\n",
       "    <tr>\n",
       "      <th>3</th>\n",
       "      <td>432214538</td>\n",
       "      <td>Female</td>\n",
       "      <td>American Pickers</td>\n",
       "      <td>1</td>\n",
       "    </tr>\n",
       "    <tr>\n",
       "      <th>4</th>\n",
       "      <td>432214538</td>\n",
       "      <td>Female</td>\n",
       "      <td>CSI: Crime Scene Investigation</td>\n",
       "      <td>2</td>\n",
       "    </tr>\n",
       "  </tbody>\n",
       "</table>\n",
       "</div>"
      ],
      "text/plain": [
       "   household_id  gender                             title  title_count\n",
       "0     432214538  Female                7 Little Johnstons            1\n",
       "1     432214538  Female  A Place in the Sun: Home or Away            2\n",
       "2     432214538  Female           Air Crash Investigation            1\n",
       "3     432214538  Female                  American Pickers            1\n",
       "4     432214538  Female    CSI: Crime Scene Investigation            2"
      ]
     },
     "execution_count": 20,
     "metadata": {},
     "output_type": "execute_result"
    }
   ],
   "source": [
    "grouped =  df.groupby([df['household_id'],df['gender'], df['title']]) \n",
    "grouped_df = pd.DataFrame(grouped.size().reset_index(name = \"title_count\"))\n",
    "grouped_df[:5]"
   ]
  },
  {
   "cell_type": "code",
   "execution_count": 21,
   "metadata": {},
   "outputs": [
    {
     "data": {
      "text/plain": [
       "household_id         int64\n",
       "channel_name        object\n",
       "title               object\n",
       "session_type        object\n",
       "session_sub_type    object\n",
       "genre               object\n",
       "sub_genre           object\n",
       "episode_title       object\n",
       "series_title        object\n",
       "gender              object\n",
       "dob                 object\n",
       "age_group            int64\n",
       "user_age             int64\n",
       "dtype: object"
      ]
     },
     "execution_count": 21,
     "metadata": {},
     "output_type": "execute_result"
    }
   ],
   "source": [
    "df.dtypes"
   ]
  },
  {
   "cell_type": "markdown",
   "metadata": {},
   "source": [
    "### Scikit learn Preprocessing and Data Transformation"
   ]
  },
  {
   "cell_type": "markdown",
   "metadata": {},
   "source": [
    "The preprocessing and data transformation for our dataset is a bit tricky due to the following reasons:\n",
    "\n",
    "Our dataset comprises of a lot of categorical columns like, \"Title\", \"Channel_name\", \"Gender\", \"Session_type\", \"Genre\", etc. \n",
    "Computers are not trained to process strings/ textual data and this information needs to be converted into numbers that can be used by a computer to build a model. \n",
    "\n",
    "Essentially, there are 2 methods by which text can be converted to numbers:\n",
    "\n",
    "- Word Vectorizer\n",
    "- Label Encoding\n",
    "\n",
    "Word Vectorizer converts words to word vectors using embeddings, but it is more applicable in a sequence of texts (example, text in a document). Since we don't have text in a sequential format, this method is not advisable for our experiment.\n",
    "\n",
    "Label Encoding on the other hand makes more sense as it maps and encodes each text to a value. \n",
    "For example, if we are converting the titles, \"Titanic\", \"Avatar\", \"The Godfather\" to encoded labels, the computer will assign 1,2,3 for the titles respectively. The problem with this encoding is, the computer will assume that labels for  3 > 2 >1 (\"The Godfather\" > \"Avatar\" > \"Titanic\") which is not the case. To solve this, we have to use OneHotEncoding. There is a drawback of increasing dimensionality while using One Hot Encoding technique, but for the moment we will not consider this, and use a limited number of rows to build and test our model. \n",
    "\n",
    "** One hot encoding transforms:\n",
    "a single variable with n observations and d distinct values, to\n",
    "\n",
    "d binary variables with n observations each. Each observation indicating the presence (1) or absence (0) of the dth binary variable."
   ]
  },
  {
   "cell_type": "code",
   "execution_count": 22,
   "metadata": {},
   "outputs": [],
   "source": [
    "import numpy as np\n",
    "from numpy import argmax\n",
    "from sklearn.preprocessing import LabelEncoder\n",
    "from sklearn.preprocessing import OneHotEncoder"
   ]
  },
  {
   "cell_type": "code",
   "execution_count": 23,
   "metadata": {},
   "outputs": [],
   "source": [
    "## For the purpose of our experiment we will be considering 10000 rows\n",
    "sample = df.sample(n= 10000)"
   ]
  },
  {
   "cell_type": "code",
   "execution_count": 24,
   "metadata": {},
   "outputs": [],
   "source": [
    "le = LabelEncoder()"
   ]
  },
  {
   "cell_type": "code",
   "execution_count": 25,
   "metadata": {},
   "outputs": [],
   "source": [
    "sample_features = sample[['household_id', 'channel_name','title','session_sub_type','genre','gender']]\n",
    "sample_target = sample[['user_age']]"
   ]
  },
  {
   "cell_type": "code",
   "execution_count": 26,
   "metadata": {},
   "outputs": [],
   "source": [
    "enc_sample_features = sample_features.apply(le.fit_transform)"
   ]
  },
  {
   "cell_type": "markdown",
   "metadata": {},
   "source": [
    "### Mapping and Storing all the encoded values to their original values"
   ]
  },
  {
   "cell_type": "code",
   "execution_count": 27,
   "metadata": {},
   "outputs": [],
   "source": [
    "from sklearn import preprocessing\n",
    "\n",
    "le.fit(sample_features['household_id'])\n",
    "le_household_id_mapping = dict(zip(le.transform(le.classes_), le.classes_))\n",
    "\n",
    "le.fit(sample_features['channel_name'])\n",
    "le_channel_name_mapping = dict(zip(le.transform(le.classes_), le.classes_))\n",
    "\n",
    "le.fit(sample_features['session_sub_type'])\n",
    "le_session_sub_type_mapping = dict(zip(le.transform(le.classes_), le.classes_))\n",
    "\n",
    "le.fit(sample_features['genre'])\n",
    "le_genre_mapping = dict(zip(le.transform(le.classes_), le.classes_))\n",
    "\n",
    "le.fit(sample_features['title'])\n",
    "le_title_mapping = dict(zip(le.transform(le.classes_), le.classes_))\n",
    "\n",
    "le.fit(sample_features['gender'])\n",
    "le_gender_mapping = dict(zip(le.transform(le.classes_), le.classes_))"
   ]
  },
  {
   "cell_type": "markdown",
   "metadata": {},
   "source": [
    "### Applying One Hot Encoder"
   ]
  },
  {
   "cell_type": "code",
   "execution_count": 28,
   "metadata": {},
   "outputs": [],
   "source": [
    "# binary encode\n",
    "onehot_encoder = OneHotEncoder(sparse=False)\n",
    "\n",
    "onehot_encoded_sample_features = onehot_encoder.fit_transform(enc_sample_features)"
   ]
  },
  {
   "cell_type": "code",
   "execution_count": 29,
   "metadata": {},
   "outputs": [
    {
     "name": "stdout",
     "output_type": "stream",
     "text": [
      "Shape before one hot encoding (10000, 6)\n",
      "Shape after one hot encoding  (10000, 1934)\n"
     ]
    }
   ],
   "source": [
    "print(\"Shape before one hot encoding\", enc_sample_features.shape)\n",
    "print(\"Shape after one hot encoding \",onehot_encoded_sample_features.shape)"
   ]
  },
  {
   "cell_type": "code",
   "execution_count": 30,
   "metadata": {},
   "outputs": [],
   "source": [
    "from sklearn.model_selection import train_test_split\n",
    "## Split data into training and testing sets.\n",
    "X_train, X_test, y_train, y_test = train_test_split(onehot_encoded_sample_features, sample_target['user_age'], random_state=None)"
   ]
  },
  {
   "cell_type": "markdown",
   "metadata": {},
   "source": [
    "### Building Classifiers"
   ]
  },
  {
   "cell_type": "code",
   "execution_count": 31,
   "metadata": {},
   "outputs": [
    {
     "name": "stderr",
     "output_type": "stream",
     "text": [
      "/anaconda/lib/python3.6/site-packages/sklearn/cross_validation.py:41: DeprecationWarning: This module was deprecated in version 0.18 in favor of the model_selection module into which all the refactored classes and functions are moved. Also note that the interface of the new CV iterators are different from that of this module. This module will be removed in 0.20.\n",
      "  \"This module will be removed in 0.20.\", DeprecationWarning)\n"
     ]
    }
   ],
   "source": [
    "from sklearn import cross_validation, linear_model\n",
    "from sklearn.naive_bayes import GaussianNB\n",
    "from sklearn.ensemble import RandomForestClassifier\n",
    "from sklearn.neighbors import KNeighborsClassifier\n",
    "from sklearn.tree import DecisionTreeClassifier\n",
    "from sklearn.svm import LinearSVC\n",
    "from sklearn.model_selection import cross_val_score"
   ]
  },
  {
   "cell_type": "code",
   "execution_count": 32,
   "metadata": {},
   "outputs": [],
   "source": [
    "import warnings\n",
    "warnings.filterwarnings('ignore')"
   ]
  },
  {
   "cell_type": "code",
   "execution_count": 33,
   "metadata": {},
   "outputs": [],
   "source": [
    "lr = linear_model.LogisticRegression()\n",
    "rf = RandomForestClassifier()\n",
    "ds = DecisionTreeClassifier()\n",
    "nb = GaussianNB()\n",
    "svm = LinearSVC()"
   ]
  },
  {
   "cell_type": "markdown",
   "metadata": {},
   "source": [
    "### Using Logistic Regression to Predict age"
   ]
  },
  {
   "cell_type": "code",
   "execution_count": 34,
   "metadata": {},
   "outputs": [
    {
     "data": {
      "text/plain": [
       "LogisticRegression(C=1.0, class_weight=None, dual=False, fit_intercept=True,\n",
       "          intercept_scaling=1, max_iter=100, multi_class='ovr', n_jobs=1,\n",
       "          penalty='l2', random_state=None, solver='liblinear', tol=0.0001,\n",
       "          verbose=0, warm_start=False)"
      ]
     },
     "execution_count": 34,
     "metadata": {},
     "output_type": "execute_result"
    }
   ],
   "source": [
    "lr.fit(X_train, y_train)"
   ]
  },
  {
   "cell_type": "code",
   "execution_count": 35,
   "metadata": {},
   "outputs": [],
   "source": [
    "logistic_regression_prediction = lr.predict(X_test)\n",
    "logistic_regression_mean_accuracy_score = lr.score(X_test, y_test)"
   ]
  },
  {
   "cell_type": "code",
   "execution_count": 36,
   "metadata": {},
   "outputs": [
    {
     "name": "stdout",
     "output_type": "stream",
     "text": [
      "[0.91011290090513453, 0.94532595283202603, 0.9529356927441186, 0.95964134805680035, 0.95866505223410414, 0.96154424983241182, 0.96456077721663414, 0.96436346754548452, 0.9655793554349581]\n"
     ]
    },
    {
     "data": {
      "text/plain": [
       "<matplotlib.text.Text at 0x1124bada0>"
      ]
     },
     "execution_count": 36,
     "metadata": {},
     "output_type": "execute_result"
    },
    {
     "data": {
      "image/png": "[encoded data removed]",
      "text/plain": [
       "<matplotlib.figure.Figure at 0x1122585f8>"
      ]
     },
     "metadata": {},
     "output_type": "display_data"
    }
   ],
   "source": [
    "cv_range =  list(range(2, 11))\n",
    "k_scores = []\n",
    "for cv in cv_range:\n",
    "    scores = cross_val_score(lr ,onehot_encoded_sample_features, sample_target, cv=cv, scoring='accuracy')\n",
    "    k_scores.append(scores.mean())\n",
    "    \n",
    "print(k_scores)\n",
    "plt.plot(cv_range, k_scores)\n",
    "plt.xlabel('Value of CV in Cross Val')\n",
    "plt.ylabel('Cross Validated Accuracy')\n",
    "plt.title('Mean score Accuracy estimation using Logistic Regression')"
   ]
  },
  {
   "cell_type": "markdown",
   "metadata": {},
   "source": [
    "### Using Random Forest to predict age"
   ]
  },
  {
   "cell_type": "code",
   "execution_count": 37,
   "metadata": {},
   "outputs": [
    {
     "data": {
      "text/plain": [
       "RandomForestClassifier(bootstrap=True, class_weight=None, criterion='gini',\n",
       "            max_depth=None, max_features='auto', max_leaf_nodes=None,\n",
       "            min_impurity_decrease=0.0, min_impurity_split=None,\n",
       "            min_samples_leaf=1, min_samples_split=2,\n",
       "            min_weight_fraction_leaf=0.0, n_estimators=10, n_jobs=1,\n",
       "            oob_score=False, random_state=None, verbose=0,\n",
       "            warm_start=False)"
      ]
     },
     "execution_count": 37,
     "metadata": {},
     "output_type": "execute_result"
    }
   ],
   "source": [
    "rf.fit(X_train, y_train)"
   ]
  },
  {
   "cell_type": "code",
   "execution_count": 38,
   "metadata": {},
   "outputs": [],
   "source": [
    "random_forest_prediction = rf.predict(X_test)\n",
    "random_forest_mean_accuracy_score = rf.score(X_test, y_test)"
   ]
  },
  {
   "cell_type": "code",
   "execution_count": 39,
   "metadata": {},
   "outputs": [
    {
     "name": "stdout",
     "output_type": "stream",
     "text": [
      "[0.84580501750600234, 0.8954852083492586, 0.912309377208121, 0.92400450718945426, 0.92497407476566529, 0.92229151717629654, 0.92984644218263457, 0.92590260217016307, 0.93264777874476601]\n"
     ]
    },
    {
     "data": {
      "text/plain": [
       "<matplotlib.text.Text at 0x10ac5cfd0>"
      ]
     },
     "execution_count": 39,
     "metadata": {},
     "output_type": "execute_result"
    },
    {
     "data": {
      "image/png": "[encoded data removed]",
      "text/plain": [
       "<matplotlib.figure.Figure at 0x112259c18>"
      ]
     },
     "metadata": {},
     "output_type": "display_data"
    }
   ],
   "source": [
    "cv_range =  list(range(2, 11))\n",
    "k_scores = []\n",
    "for cv in cv_range:\n",
    "    scores = cross_val_score(rf ,onehot_encoded_sample_features, sample_target , cv=cv, scoring='accuracy')\n",
    "    k_scores.append(scores.mean())\n",
    "    \n",
    "print(k_scores)\n",
    "plt.plot(cv_range, k_scores)\n",
    "plt.xlabel('Value of CV in Cross Val')\n",
    "plt.ylabel('Cross Validated Accuracy')\n",
    "plt.title('Mean score Accuracy estimation using Random Forest')"
   ]
  },
  {
   "cell_type": "markdown",
   "metadata": {},
   "source": [
    "### Using Decision Tree to predict age"
   ]
  },
  {
   "cell_type": "code",
   "execution_count": 40,
   "metadata": {},
   "outputs": [
    {
     "data": {
      "text/plain": [
       "DecisionTreeClassifier(class_weight=None, criterion='gini', max_depth=None,\n",
       "            max_features=None, max_leaf_nodes=None,\n",
       "            min_impurity_decrease=0.0, min_impurity_split=None,\n",
       "            min_samples_leaf=1, min_samples_split=2,\n",
       "            min_weight_fraction_leaf=0.0, presort=False, random_state=None,\n",
       "            splitter='best')"
      ]
     },
     "execution_count": 40,
     "metadata": {},
     "output_type": "execute_result"
    }
   ],
   "source": [
    "ds.fit(X_train, y_train)"
   ]
  },
  {
   "cell_type": "code",
   "execution_count": 41,
   "metadata": {},
   "outputs": [],
   "source": [
    "decision_tree_prediction = ds.predict(X_test)\n",
    "decision_tree_mean_accuracy_score = ds.score(X_test, y_test)"
   ]
  },
  {
   "cell_type": "code",
   "execution_count": null,
   "metadata": {},
   "outputs": [],
   "source": [
    "cv_range =  list(range(2, 11))\n",
    "k_scores = []\n",
    "for cv in cv_range:\n",
    "    scores = cross_val_score(ds ,onehot_encoded_sample_features, sample_target, cv=cv, scoring='accuracy')\n",
    "    k_scores.append(scores.mean())\n",
    "    \n",
    "print(k_scores)\n",
    "plt.plot(cv_range, k_scores)\n",
    "plt.xlabel('Value of CV in Cross Val')\n",
    "plt.ylabel('Cross Validated Accuracy')\n",
    "plt.title('Mean Accuracy score using Decision Tree')"
   ]
  },
  {
   "cell_type": "markdown",
   "metadata": {},
   "source": [
    "### Using Naive Bayes to predict age"
   ]
  },
  {
   "cell_type": "code",
   "execution_count": null,
   "metadata": {},
   "outputs": [],
   "source": [
    "nb.fit(X_train, y_train)"
   ]
  },
  {
   "cell_type": "code",
   "execution_count": null,
   "metadata": {},
   "outputs": [],
   "source": [
    "naive_bayes_prediction = nb.predict(X_test)\n",
    "naive_bayes_mean_accuracy_score = nb.score(X_test, y_test)"
   ]
  },
  {
   "cell_type": "code",
   "execution_count": null,
   "metadata": {},
   "outputs": [],
   "source": [
    "cv_range =  list(range(2, 11))\n",
    "k_scores = []\n",
    "for cv in cv_range:\n",
    "    scores = cross_val_score(nb ,onehot_encoded_sample_features, sample_target , cv=cv, scoring='accuracy')\n",
    "    k_scores.append(scores.mean())\n",
    "    \n",
    "print(k_scores)\n",
    "plt.plot(cv_range, k_scores)\n",
    "plt.xlabel('Value of CV in Cross Val')\n",
    "plt.ylabel('Cross Validated Accuracy')\n",
    "plt.title('Mean Accuracy score using Naive Bayes')"
   ]
  },
  {
   "cell_type": "markdown",
   "metadata": {},
   "source": [
    "### Using SVM to predict age"
   ]
  },
  {
   "cell_type": "code",
   "execution_count": null,
   "metadata": {},
   "outputs": [],
   "source": [
    "svm.fit(X_train, y_train)"
   ]
  },
  {
   "cell_type": "code",
   "execution_count": null,
   "metadata": {},
   "outputs": [],
   "source": [
    "support_vector_prediction = svm.predict(X_test)\n",
    "support_vector_mean_accuracy_score = svm.score(X_test, y_test)"
   ]
  },
  {
   "cell_type": "code",
   "execution_count": null,
   "metadata": {},
   "outputs": [],
   "source": [
    "cv_range =  list(range(2, 11))\n",
    "k_scores = []\n",
    "for cv in cv_range:\n",
    "    scores = cross_val_score(svm ,onehot_encoded_sample_features, sample_target, cv=cv)\n",
    "    k_scores.append(scores.mean())\n",
    "    \n",
    "print(k_scores)\n",
    "plt.plot(cv_range, k_scores)\n",
    "plt.xlabel('Value of CV in Cross Val')\n",
    "plt.ylabel('Cross Validated Accuracy')\n",
    "plt.title('Mean score Accuracy estimation using SVM')"
   ]
  },
  {
   "cell_type": "markdown",
   "metadata": {},
   "source": [
    "### Iteration II: Trying to predict age from only titles"
   ]
  },
  {
   "cell_type": "code",
   "execution_count": null,
   "metadata": {},
   "outputs": [],
   "source": [
    "sample_features_title = sample[['title']]\n",
    "enc_sample_features_title = sample_features.apply(le.fit_transform)\n",
    "onehot_encoded_sample_features_title = onehot_encoder.fit_transform(enc_sample_features_title)"
   ]
  },
  {
   "cell_type": "code",
   "execution_count": null,
   "metadata": {},
   "outputs": [],
   "source": [
    "X_title_train, X_title_test, y_age_train, y_age_test = train_test_split(onehot_encoded_sample_features_title, sample_target['user_age'], random_state=None)"
   ]
  },
  {
   "cell_type": "code",
   "execution_count": null,
   "metadata": {},
   "outputs": [],
   "source": [
    "print(\"Random Forest mean scores for title vs age prediction\",rf.fit(X_title_train, y_age_train).score(X_title_test, y_age_test))"
   ]
  },
  {
   "cell_type": "code",
   "execution_count": null,
   "metadata": {},
   "outputs": [],
   "source": [
    "print(\"Decision Tree mean scores for title vs age prediction\",ds.fit(X_title_train, y_age_train).score(X_title_test, y_age_test))"
   ]
  },
  {
   "cell_type": "code",
   "execution_count": null,
   "metadata": {},
   "outputs": [],
   "source": [
    "print(\"Naive Bayes mean scores for title vs age prediction\",nb.fit(X_title_train, y_age_train).score(X_title_test, y_age_test))"
   ]
  },
  {
   "cell_type": "code",
   "execution_count": null,
   "metadata": {},
   "outputs": [],
   "source": [
    "print(\"Support Vector mean scores for title vs age prediction\",svm.fit(X_title_train, y_age_train).score(X_title_test, y_age_test))"
   ]
  },
  {
   "cell_type": "markdown",
   "metadata": {},
   "source": [
    "### Building a title recommender based on Item Similarity"
   ]
  },
  {
   "cell_type": "code",
   "execution_count": null,
   "metadata": {},
   "outputs": [],
   "source": [
    "#Class for Item similarity based Recommender System model\n",
    "import pandas as pd\n",
    "class item_similarity_recommender_py():\n",
    "    def __init__(self):\n",
    "        self.train_data = None\n",
    "        self.user_id = None\n",
    "        self.item_id = None\n",
    "        self.cooccurence_matrix = None\n",
    "        self.songs_dict = None\n",
    "        self.rev_songs_dict = None\n",
    "        self.item_similarity_recommendations = None\n",
    "        \n",
    "    #Get unique items (songs) corresponding to a given user\n",
    "    def get_user_items(self, user):\n",
    "        user_data = self.train_data[self.train_data[self.user_id] == user]\n",
    "        user_items = list(user_data[self.item_id].unique())\n",
    "        \n",
    "        return user_items\n",
    "        \n",
    "    #Get unique users for a given item (song)\n",
    "    def get_item_users(self, item):\n",
    "        item_data = self.train_data[self.train_data[self.item_id] == item]\n",
    "        item_users = set(item_data[self.user_id].unique())\n",
    "            \n",
    "        return item_users\n",
    "        \n",
    "    #Get unique items (songs) in the training data\n",
    "    def get_all_items_train_data(self):\n",
    "        all_items = list(self.train_data[self.item_id].unique())\n",
    "            \n",
    "        return all_items\n",
    "        \n",
    "    #Construct cooccurence matrix\n",
    "    def construct_cooccurence_matrix(self, user_songs, all_songs):\n",
    "            \n",
    "        ####################################\n",
    "        #Get users for all songs in user_songs.\n",
    "        ####################################\n",
    "        user_songs_users = []        \n",
    "        for i in range(0, len(user_songs)):\n",
    "            user_songs_users.append(self.get_item_users(user_songs[i]))\n",
    "            \n",
    "        ###############################################\n",
    "        #Initialize the item cooccurence matrix of size \n",
    "        #len(user_songs) X len(songs)\n",
    "        ###############################################\n",
    "        cooccurence_matrix = np.matrix(np.zeros(shape=(len(user_songs), len(all_songs))), float)\n",
    "           \n",
    "        #############################################################\n",
    "        #Calculate similarity between user songs and all unique songs\n",
    "        #in the training data\n",
    "        #############################################################\n",
    "        for i in range(0,len(all_songs)):\n",
    "            #Calculate unique listeners (users) of song (item) i\n",
    "            songs_i_data = self.train_data[self.train_data[self.item_id] == all_songs[i]]\n",
    "            users_i = set(songs_i_data[self.user_id].unique())\n",
    "            \n",
    "            for j in range(0,len(user_songs)):       \n",
    "                    \n",
    "                #Get unique listeners (users) of song (item) j\n",
    "                users_j = user_songs_users[j]\n",
    "                    \n",
    "                #Calculate intersection of listeners of songs i and j\n",
    "                users_intersection = users_i.intersection(users_j)\n",
    "                \n",
    "                #Calculate cooccurence_matrix[i,j] as Jaccard Index\n",
    "                if len(users_intersection) != 0:\n",
    "                    #Calculate union of listeners of songs i and j\n",
    "                    users_union = users_i.union(users_j)\n",
    "                    \n",
    "                    cooccurence_matrix[j,i] = float(len(users_intersection))/float(len(users_union))\n",
    "                else:\n",
    "                    cooccurence_matrix[j,i] = 0\n",
    "                    \n",
    "        \n",
    "        return cooccurence_matrix\n",
    "\n",
    "    \n",
    "    #Use the cooccurence matrix to make top recommendations\n",
    "    def generate_top_recommendations(self, user, cooccurence_matrix, all_songs, user_songs):\n",
    "        print(\"Non zero values in cooccurence_matrix :%d\" % np.count_nonzero(cooccurence_matrix))\n",
    "        \n",
    "        #Calculate a weighted average of the scores in cooccurence matrix for all user songs.\n",
    "        user_sim_scores = cooccurence_matrix.sum(axis=0)/float(cooccurence_matrix.shape[0])\n",
    "        user_sim_scores = np.array(user_sim_scores)[0].tolist()\n",
    " \n",
    "        #Sort the indices of user_sim_scores based upon their value\n",
    "        #Also maintain the corresponding score\n",
    "        sort_index = sorted(((e,i) for i,e in enumerate(list(user_sim_scores))), reverse=True)\n",
    "    \n",
    "        #Create a dataframe from the following\n",
    "        columns = ['household_id', 'title', 'score', 'rank']\n",
    "        #index = np.arange(1) # array of numbers for the number of samples\n",
    "        df = pd.DataFrame(columns=columns)\n",
    "         \n",
    "        #Fill the dataframe with top 10 item based recommendations\n",
    "        rank = 1 \n",
    "        for i in range(0,len(sort_index)):\n",
    "            if ~np.isnan(sort_index[i][0]) and all_songs[sort_index[i][1]] not in user_songs and rank <= 10:\n",
    "                df.loc[len(df)]=[user,all_songs[sort_index[i][1]],sort_index[i][0],rank]\n",
    "                rank = rank+1\n",
    "        \n",
    "        #Handle the case where there are no recommendations\n",
    "        if df.shape[0] == 0:\n",
    "            print(\"The current user has no titles for training the item similarity based recommendation model.\")\n",
    "            return -1\n",
    "        else:\n",
    "            return df\n",
    " \n",
    "    #Create the item similarity based recommender system model\n",
    "    def create(self, train_data, user_id, item_id):\n",
    "        self.train_data = train_data\n",
    "        self.user_id = user_id\n",
    "        self.item_id = item_id\n",
    "\n",
    "    #Use the item similarity based recommender system model to\n",
    "    #make recommendations\n",
    "    def recommend(self, user):\n",
    "        \n",
    "        ########################################\n",
    "        #A. Get all unique songs for this user\n",
    "        ########################################\n",
    "        user_songs = self.get_user_items(user)    \n",
    "            \n",
    "        print(\"No. of unique titles for the user: %d\" % len(user_songs))\n",
    "        \n",
    "        ######################################################\n",
    "        #B. Get all unique items (songs) in the training data\n",
    "        ######################################################\n",
    "        all_songs = self.get_all_items_train_data()\n",
    "        \n",
    "        print(\"no. of unique titles in the training set: %d\" % len(all_songs))\n",
    "         \n",
    "        ###############################################\n",
    "        #C. Construct item cooccurence matrix of size \n",
    "        #len(user_songs) X len(songs)\n",
    "        ###############################################\n",
    "        cooccurence_matrix = self.construct_cooccurence_matrix(user_songs, all_songs)\n",
    "        \n",
    "        #######################################################\n",
    "        #D. Use the cooccurence matrix to make recommendations\n",
    "        #######################################################\n",
    "        df_recommendations = self.generate_top_recommendations(user, cooccurence_matrix, all_songs, user_songs)\n",
    "                \n",
    "        return df_recommendations\n",
    "    \n",
    "    #Get similar items to given items\n",
    "    def get_similar_items(self, item_list):\n",
    "        \n",
    "        user_songs = item_list\n",
    "        \n",
    "        ######################################################\n",
    "        #B. Get all unique items (songs) in the training data\n",
    "        ######################################################\n",
    "        all_songs = self.get_all_items_train_data()\n",
    "        \n",
    "        print(\"no. of unique titles in the training set: %d\" % len(all_songs))\n",
    "         \n",
    "        ###############################################\n",
    "        #C. Construct item cooccurence matrix of size \n",
    "        #len(user_songs) X len(songs)\n",
    "        ###############################################\n",
    "        cooccurence_matrix = self.construct_cooccurence_matrix(user_songs, all_songs)\n",
    "        \n",
    "        #######################################################\n",
    "        #D. Use the cooccurence matrix to make recommendations\n",
    "        #######################################################\n",
    "        user = \"\"\n",
    "        df_recommendations = self.generate_top_recommendations(user, cooccurence_matrix, all_songs, user_songs)\n",
    "         \n",
    "        return df_recommendations"
   ]
  },
  {
   "cell_type": "code",
   "execution_count": null,
   "metadata": {},
   "outputs": [],
   "source": [
    "is_model = item_similarity_recommender_py()\n",
    "is_model.create(df, 'household_id', 'title')\n",
    "users = df['household_id'].unique()\n",
    "user_id = 432216770\t\n",
    "user_items = is_model.get_user_items(user_id)\n",
    "\n",
    "print(\"------------------------------------------------------------------------------------\")\n",
    "print(\"Training titles for the user userid: %s:\" % user_id)\n",
    "print(\"------------------------------------------------------------------------------------\")\n",
    "\n",
    "for user_item in user_items:\n",
    "    print(user_item)"
   ]
  },
  {
   "cell_type": "code",
   "execution_count": null,
   "metadata": {},
   "outputs": [],
   "source": [
    "print(\"----------------------------------------------------------------------\")\n",
    "print(\"Top 5 viewed items for household 432216770\")\n",
    "print(\"----------------------------------------------------------------------\")\n",
    "df[(df.household_id == 432216770) ]['title'].value_counts()[:5]"
   ]
  },
  {
   "cell_type": "code",
   "execution_count": null,
   "metadata": {},
   "outputs": [],
   "source": [
    "print(\"----------------------------------------------------------------------\")\n",
    "print(\"Recommendation process going on for household 432216770:\")\n",
    "print(\"----------------------------------------------------------------------\")\n",
    "is_model.recommend(432216770)"
   ]
  },
  {
   "cell_type": "markdown",
   "metadata": {},
   "source": [
    "### Conclusion\n",
    "Based on the the above titles, we can feed this into our model that can predict an user age as shown in the previous cells of this analysis."
   ]
  }
 ],
 "metadata": {
  "kernelspec": {
   "display_name": "Python 3",
   "language": "python",
   "name": "python3"
  },
  "language_info": {
   "codemirror_mode": {
    "name": "ipython",
    "version": 3
   },
   "file_extension": ".py",
   "mimetype": "text/x-python",
   "name": "python",
   "nbconvert_exporter": "python",
   "pygments_lexer": "ipython3",
   "version": "3.6.3"
  }
 },
 "nbformat": 4,
 "nbformat_minor": 2
}
